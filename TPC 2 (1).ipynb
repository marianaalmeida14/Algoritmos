{
 "cells": [
  {
   "cell_type": "markdown",
   "id": "0d3e081f",
   "metadata": {},
   "source": [
    "# Manifesto\n",
    "\n",
    "**Identificador**: TPC 2\n",
    "\n",
    "**Título**: procura_binária\n",
    "\n",
    "**Data início**:2021-10-16                       **Data fim**:2021-10-16\n",
    "\n",
    "**Supervisor**:José Carlos Ramalho, https://www.di.uminho.pt/~jcr/thesup-v2.php\n",
    "\n",
    "**Autor** : Mariana Almeida, a97380\n",
    "\n",
    "### Resumo:\n",
    "\n",
    "Este trabalho de casa consiste na criação de um jogo onde o jogador pensa num número de 0 a 100 e o computador tem de o adivinhar.\n",
    "\n",
    "Deste modo, é implementado o algoritmo procura_binária num ciclo while, onde o computador vai recebendo pistas do jogador e consoante essas pistas, o computador vai dividindo a meio o seu intervalo de respostas possíveis até encontrar o número.\n",
    "\n",
    "\n",
    "\n"
   ]
  },
  {
   "cell_type": "code",
   "execution_count": 3,
   "id": "c6ea5be5",
   "metadata": {},
   "outputs": [
    {
     "name": "stdout",
     "output_type": "stream",
     "text": [
      "Bem vindo! Pense num número de 0-100 e o computador vai tentar adivinhar\n",
      "Diga se o número é maior, menor ou igual a  50.0 :maior\n",
      "Número de tentativas 1\n",
      "Diga se o número é maior, menor ou igual a  75.0 :menor\n",
      "Número de tentativas 2\n",
      "Diga se o número é maior, menor ou igual a  62.5 :igual\n",
      "O computador adivinhou, o número é 62.5\n",
      "Número tentativas 2\n"
     ]
    }
   ],
   "source": [
    "print(\"Bem vindo! Pense num número de 0-100 e o computador vai tentar adivinhar\")\n",
    "def procura_binária():\n",
    "    inf=0\n",
    "    sup=100\n",
    "    contador=0\n",
    "    p=False\n",
    "    while not p:\n",
    "        meio=((inf+sup)/2)\n",
    "        procurado=input(\"Diga se o número é maior, menor ou igual a  %s :\" %meio)\n",
    "        if procurado==\"menor\":\n",
    "            sup=meio\n",
    "            contador=contador+1\n",
    "            print(\"Número de tentativas\", contador)\n",
    "          \n",
    "        elif procurado==\"maior\":\n",
    "             inf= meio\n",
    "             contador=contador+1\n",
    "             print(\"Número de tentativas\", contador)\n",
    "            \n",
    "        elif procurado==\"igual\":\n",
    "                    print(\"O computador adivinhou, o número é\", meio)\n",
    "                    p=True\n",
    "        else:\n",
    "                    print(\"Erro\")\n",
    "    print(\"Número tentativas\", contador)\n",
    "        \n",
    "procura_binária()\n",
    "        \n",
    "    "
   ]
  },
  {
   "cell_type": "code",
   "execution_count": null,
   "id": "1acecda2",
   "metadata": {},
   "outputs": [],
   "source": []
  }
 ],
 "metadata": {
  "kernelspec": {
   "display_name": "Python 3",
   "language": "python",
   "name": "python3"
  },
  "language_info": {
   "codemirror_mode": {
    "name": "ipython",
    "version": 3
   },
   "file_extension": ".py",
   "mimetype": "text/x-python",
   "name": "python",
   "nbconvert_exporter": "python",
   "pygments_lexer": "ipython3",
   "version": "3.8.8"
  }
 },
 "nbformat": 4,
 "nbformat_minor": 5
}
