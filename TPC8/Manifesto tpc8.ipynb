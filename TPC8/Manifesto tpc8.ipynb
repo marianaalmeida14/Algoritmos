{
 "cells": [
  {
   "cell_type": "markdown",
   "id": "e6a9786b",
   "metadata": {},
   "source": [
    "# Manifesto\n",
    "**Identificador**: TPC 8\n",
    "\n",
    "**Título**:Interface gráfica para registos médicos\n",
    "\n",
    "**Data início**:2021-12-04   **Data fim**:2021-12-07\n",
    "\n",
    "**Supervisor**:José Carlos Ramalho, www.di.uminho.pt/~jcr/thesup-v2.php\n",
    "\n",
    "**Autor**: Mariana Almeida, a97380\n",
    "    \n",
    "## Resumo:\n",
    "\n",
    "O objetivo deste trabalho de casa consiste em desenvolver um programa que crie uma interface relativa a registos médicos de pacientes.\n",
    "A janela da interface gráfica deverá conter numca coluna os botões _Carregar base de dados_ , _Modalidades_, _Distribuição por Ano_, _Distribuião por Clube_ e _Listar_.\n",
    "**Carregando a base de dados** deverá ser transmitida uma mensagem referente ao número de registos existentes. \n",
    "O Botão ** Modalidades** irá imprimir uma lista de todas as modalidades que constam na bd. Já as opcões **Distribuição por Ano ** e **Distribuição por Clube** irão apresentar um gráfico de barras.\n",
    "Quanto à funcionalidade **Listar**, é exposta uma lista de registos com o id, a data, o nome e o resultado relativo à aptidão do paciente."
   ]
  },
  {
   "cell_type": "code",
   "execution_count": null,
   "id": "7ae1f1c2",
   "metadata": {},
   "outputs": [],
   "source": []
  }
 ],
 "metadata": {
  "kernelspec": {
   "display_name": "Python 3",
   "language": "python",
   "name": "python3"
  },
  "language_info": {
   "codemirror_mode": {
    "name": "ipython",
    "version": 3
   },
   "file_extension": ".py",
   "mimetype": "text/x-python",
   "name": "python",
   "nbconvert_exporter": "python",
   "pygments_lexer": "ipython3",
   "version": "3.8.8"
  }
 },
 "nbformat": 4,
 "nbformat_minor": 5
}
